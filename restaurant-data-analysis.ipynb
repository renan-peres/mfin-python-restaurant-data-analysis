{
  "cells": [
    {
      "cell_type": "markdown",
      "metadata": {
        "id": "view-in-github",
        "colab_type": "text"
      },
      "source": [
        "<a href=\"https://colab.research.google.com/github/renan-peres/mfin-python-restaurant-data-analysis/blob/main/restaurant-data-analysis.ipynb\" target=\"_parent\"><img src=\"https://colab.research.google.com/assets/colab-badge.svg\" alt=\"Open In Colab\"/></a>"
      ]
    },
    {
      "cell_type": "markdown",
      "metadata": {
        "id": "jaE8bKgGE7uz"
      },
      "source": [
        "# **Restaurant Data Analysis**\n",
        "![Restaurant Analysis Introduction](https://github.com/renan-peres/mfin-python-restaurant-data-analysis/blob/main/images/intro.jpeg?raw=1)\n",
        "\n",
        "### **Overview**\n",
        "This is a project developed by Team 5 for the **Python for Data Analysts: Methods & Tools - DAT-7466 - BMFIN1** Course (Spring 2025) at Hult International business School -- led by Professor [Michael de la Maza](https://www.linkedin.com/in/michaeldelamaza/).\n",
        "\n",
        "The purpose of the analysis is to evaluate the performace for a restaurant chain located in the **New York City** during the year of 2018 and indentify trends and potentia areas that the restaurant could expand to.\n",
        "\n",
        "### **Team 5 Members**\n",
        "- [Daniela Salgari](https://www.linkedin.com/in/daniela-salgar/)\n",
        "- [Alessandro Frullani](https://www.linkedin.com/in/alessandro-frullani-8526b4132/)\n",
        "- [Gianmaria Betta](https://www.linkedin.com/in/gianmariabetta/)\n",
        "- [Marco Primatesta](https://www.linkedin.com/in/marco-primatesta/)\n",
        "- [Renan Peres](https://www.linkedin.com/in/renanperes/)\n",
        "\n",
        "### **Contents**\n",
        "- [Prepare Environmnet](#prepare-environment)\n",
        "- [Download & Import Datasets](#download--import-datasets)\n",
        "- [Exploratory Data Analysis (EDA)](#exploratory-data-analysis-eda)\n",
        "- [Data Cleaning & Transformation](#data-cleaning--transformation)\n",
        "- [Data Analysis & Visualization](#data-analysis--visualization)\n",
        "  - [Orders](#orders)\n",
        "  - [Items](#items)\n",
        "  - [Order Type](#order-type)\n",
        "- [Insights & Recommendations](#insights--recommendations)\n",
        "  - [Where should the new restaurant be located?](#q1-where-should-the-new-restaurant-be-located)\n",
        "  - [Which items should be included in the new restaurant?](#q2-which-items-should-be-included-in-the-new-restaurant)\n",
        "  - [What type of restaurant should it be?](#q3-what-type-of-restaurant-should-it-be)"
      ]
    },
    {
      "cell_type": "markdown",
      "metadata": {
        "id": "Thm1uBq5nGvj"
      },
      "source": [
        "## **Prepare Environment**\n",
        "\n",
        "Have a jupyter environment ready, and `pip install` these libraries:\n"
      ]
    },
    {
      "cell_type": "code",
      "execution_count": 50,
      "metadata": {
        "id": "5nZCxZVJnJgC"
      },
      "outputs": [],
      "source": [
        "!pip install -q gdown -q highcharts-core -q kaleido\n",
        "import gdown # Google Drive Connector\n",
        "\n",
        "import pandas as pd\n",
        "import numpy as np\n",
        "\n",
        "import matplotlib.pyplot as plt\n",
        "import matplotlib.ticker as ticker\n",
        "import plotly.express as px\n",
        "import plotly.graph_objects as go\n",
        "from highcharts_core.chart import Chart\n",
        "\n",
        "from typing import Tuple, List, Dict\n",
        "import os\n",
        "import warnings\n",
        "from IPython.display import HTML\n",
        "from IPython.display import Image\n",
        "import IPython\n",
        "\n",
        "# Suppress FutureWarning and FormatterWarning\n",
        "warnings.filterwarnings('ignore', category=FutureWarning)\n",
        "warnings.filterwarnings('ignore', category=IPython.core.formatters.FormatterWarning)\n",
        "\n",
        "default_colors = [\n",
        "    '#2E86C1',  # Ocean Blue\n",
        "    '#E74C3C',  # Bright Red\n",
        "    '#2ECC71',  # Emerald Green\n",
        "    '#F39C12',  # Orange\n",
        "    '#9B59B6',  # Amethyst Purple\n",
        "    '#1ABC9C',  # Turquoise\n",
        "    '#E67E22',  # Carrot Orange\n",
        "    '#34495E',  # Dark Slate\n",
        "    '#27AE60',  # Nephritis Green\n",
        "    '#8E44AD',  # Wisteria Purple\n",
        "    '#3498DB',  # Bright Blue\n",
        "    '#D35400',  # Pumpkin Orange\n",
        "    '#16A085',  # Green Sea\n",
        "    '#C0392B',  # Dark Red\n",
        "    '#7D3C98',  # Deep Purple\n",
        "    '#2980B9',  # Belize Blue\n",
        "    '#F1C40F',  # Sunflower Yellow\n",
        "    '#17A589',  # Light Sea Green\n",
        "    '#E91E63',  # Pink\n",
        "    '#5D6D7E'   # Slate Gray\n",
        "    ]\n",
        "\n",
        "# Sort months chronologically\n",
        "month_order = ['January',\n",
        "               'February',\n",
        "               'March',\n",
        "               'April',\n",
        "               'May',\n",
        "               'June',\n",
        "               'July',\n",
        "               'August',\n",
        "               'September',\n",
        "               'October',\n",
        "               'November',\n",
        "               'December'\n",
        "               ]"
      ]
    },
    {
      "cell_type": "markdown",
      "metadata": {
        "id": "sqEqD1aCkxsB"
      },
      "source": [
        "## **Download & Import Datasets**\n",
        "The datasets used in this report was retrieved from following directory: https://drive.google.com/drive/folders/1GtIfSS0K3wyBkOPD0jOy7V8fIXW3JEfj"
      ]
    },
    {
      "cell_type": "code",
      "execution_count": null,
      "metadata": {
        "colab": {
          "base_uri": "https://localhost:8080/"
        },
        "id": "9X18MLs5cUdC",
        "outputId": "b88d74cb-b09b-41c0-8344-8395f14b7407"
      },
      "outputs": [
        {
          "output_type": "stream",
          "name": "stderr",
          "text": [
            "Retrieving folder contents\n"
          ]
        }
      ],
      "source": [
        "# Define the directory URL\n",
        "directory_url = 'https://drive.google.com/drive/folders/1GtIfSS0K3wyBkOPD0jOy7V8fIXW3JEfj'\n",
        "\n",
        "# Try to download files first, if fails, use local path\n",
        "try:\n",
        "    # Attempt to download all files within the directory\n",
        "    gdown.download_folder(url=directory_url, quiet=False, use_cookies=False)\n",
        "    base_path = '/content/Student Data/Copy of'\n",
        "except Exception as e:\n",
        "    print(f\"Failed to download files: {e}\")\n",
        "    print(\"Using local path instead...\")\n",
        "    base_path = '/content'\n",
        "\n",
        "# Dictionary of file paths and their corresponding dataframe names\n",
        "files = {\n",
        "    'items.pickle': 'df_items',\n",
        "    'restaurants.pickle': 'df_restaurants',\n",
        "    'orders.pickle': 'df_orders',\n",
        "    'orders_7.pickle': 'df_orders_7',\n",
        "    'students.pickle': 'df_students',\n",
        "    'summarized_orders.pickle': 'df_summarized_orders'\n",
        "}\n",
        "\n",
        "# Load pickle files\n",
        "for file, df_name in files.items():\n",
        "    try:\n",
        "        if base_path == '/content/Student Data/Copy of':\n",
        "            globals()[df_name] = pd.read_pickle(f'{base_path} {file}')\n",
        "        else:\n",
        "            globals()[df_name] = pd.read_pickle(f'{base_path}/{file}')\n",
        "    except Exception as e:\n",
        "        print(f\"Error loading {file}: {e}\")\n",
        "\n",
        "# Load Excel file separately since it has different extension\n",
        "try:\n",
        "    if base_path == '/content/Student Data/Copy of':\n",
        "        df_university = pd.read_excel(f'{base_path} university.xlsx')\n",
        "    else:\n",
        "        df_university = pd.read_excel(f'{base_path}/university.xlsx')\n",
        "except Exception as e:\n",
        "    print(f\"Error loading university.xlsx: {e}\")"
      ]
    },
    {
      "cell_type": "markdown",
      "metadata": {
        "id": "Ov8-KUSW3g6R"
      },
      "source": [
        "## **Exploratory Data Analysis (EDA)**"
      ]
    },
    {
      "cell_type": "markdown",
      "metadata": {
        "id": "7XRmw5xqkbP8"
      },
      "source": [
        "### Profile Initial Data"
      ]
    },
    {
      "cell_type": "code",
      "execution_count": null,
      "metadata": {
        "id": "3cJlrF-uBbFo"
      },
      "outputs": [],
      "source": [
        "def profile_table(table_name: str, df: pd.DataFrame) -> Tuple[str, int, int, int, int, List[str], Dict[str, float], List[str]]:\n",
        "    print(f\"\\n{'='*80}\\nStarting to process table: {table_name}\\n{'='*80}\")\n",
        "\n",
        "    # Calculate metrics and gather information\n",
        "    total_rows = df.shape[0]\n",
        "    total_columns = df.shape[1]\n",
        "    null_rows = df.isnull().any(axis=1).sum()\n",
        "    duplicate_rows = df.duplicated().sum()\n",
        "\n",
        "    # Return the gathered information as a tuple\n",
        "    return table_name, total_rows, total_columns, null_rows, duplicate_rows\n",
        "\n",
        "# List of your DataFrames\n",
        "dataframes = [df_items, df_restaurants, df_orders, df_orders_7, df_students, df_summarized_orders, df_university]\n",
        "dataframe_names = ['df_items', 'df_restaurants', 'df_orders', 'df_orders_7', 'df_students', 'df_summarized_orders', 'df_university']\n",
        "\n",
        "# Create an empty list to store the results\n",
        "results = []\n",
        "\n",
        "# Loop through all tables and profile them\n",
        "for i, df in enumerate(dataframes):\n",
        "    result = profile_table(dataframe_names[i], df)\n",
        "    results.append(result)\n",
        "    print(f\"Completed processing table: {dataframe_names[i]}\")\n",
        "    print(\"---\\n\")\n",
        "\n",
        "# Create a DataFrame from the results\n",
        "result_df = pd.DataFrame({\n",
        "    \"table_name\": [r[0] for r in results],\n",
        "    \"total_rows\": [r[1] for r in results],\n",
        "    \"total_columns\": [r[2] for r in results],\n",
        "    \"null_rows\": [r[3] for r in results],\n",
        "    \"duplicate_rows\": [r[4] for r in results]\n",
        "})\n",
        "\n",
        "# Display the results\n",
        "display(result_df)"
      ]
    },
    {
      "cell_type": "markdown",
      "metadata": {
        "id": "Sw3tiTYIUOpe"
      },
      "source": [
        "### Inspect Data Types"
      ]
    },
    {
      "cell_type": "code",
      "execution_count": null,
      "metadata": {
        "id": "EW53sI6yWH-9"
      },
      "outputs": [],
      "source": [
        "def get_dataframe_info(dataframes, dataframe_names):\n",
        "  \"\"\"\n",
        "  Gets column names and data types for multiple dataframes.\n",
        "\n",
        "  Args:\n",
        "      dataframes: A list of pandas DataFrames.\n",
        "      dataframe_names: A list of strings, where each string is the name of the corresponding DataFrame.\n",
        "\n",
        "  Returns:\n",
        "      A pandas DataFrame containing the dataframe name, column name, and data type.\n",
        "  \"\"\"\n",
        "\n",
        "  all_info = []\n",
        "  for df, name in zip(dataframes, dataframe_names):\n",
        "    if isinstance(df, pd.DataFrame):  # Check if it's actually a DataFrame\n",
        "      for col in df.columns:\n",
        "        all_info.append([name, col, df[col].dtype])\n",
        "    else:\n",
        "      print(f\"Warning: {name} is not a DataFrame. Skipping...\")\n",
        "\n",
        "  return pd.DataFrame(all_info, columns=[\"dataframe\", \"column_name\", \"type\"])\n",
        "\n",
        "# Example usage (replace with your actual dataframes and names)\n",
        "dataframes = [df_items, df_restaurants, df_orders, df_orders_7, df_students, df_summarized_orders, df_university]\n",
        "dataframe_names = ['df_items', 'df_restaurants', 'df_orders', 'df_orders_7', 'df_students', 'df_summarized_orders', 'df_university']\n",
        "\n",
        "# Display the results\n",
        "get_dataframe_info(dataframes, dataframe_names)"
      ]
    },
    {
      "cell_type": "markdown",
      "metadata": {
        "id": "K5UkPq9MYAj9"
      },
      "source": [
        "## **Data Cleaning & Transformation**"
      ]
    },
    {
      "cell_type": "markdown",
      "metadata": {
        "id": "D8xwd0vhSYM4"
      },
      "source": [
        "### Drop Null Rows"
      ]
    },
    {
      "cell_type": "code",
      "execution_count": null,
      "metadata": {
        "id": "vmCZqMqqSYgV"
      },
      "outputs": [],
      "source": [
        "def clean_dataframes(result_df: pd.DataFrame, dataframe_names: List[str], dataframes: List[pd.DataFrame]) -> None:\n",
        "    \"\"\"\n",
        "    Cleans the dataframes by dropping null rows and null columns based on the profiling results.\n",
        "\n",
        "    Parameters:\n",
        "        result_df (pd.DataFrame): The DataFrame containing profiling results.\n",
        "        dataframe_names (List[str]): List of names corresponding to the DataFrames.\n",
        "        dataframes (List[pd.DataFrame]): List of DataFrames to be cleaned.\n",
        "    \"\"\"\n",
        "    for i in range(len(dataframes)):\n",
        "        df_name = dataframe_names[i]\n",
        "        df = dataframes[i]\n",
        "        # Get the corresponding row from result_df (same order)\n",
        "        row = result_df.iloc[i]\n",
        "\n",
        "        # Drop rows with any null values if there were null rows\n",
        "        if row['null_rows'] > 0:\n",
        "            df.dropna(axis=0, how='any', inplace=True)\n",
        "\n",
        "# Usage after profiling\n",
        "clean_dataframes(result_df, dataframe_names, dataframes)\n",
        "\n",
        "# Optionally, reprofile to verify cleaning\n",
        "results_after_cleaning = []\n",
        "for i, df in enumerate(dataframes):\n",
        "    result = profile_table(dataframe_names[i], df)\n",
        "    results_after_cleaning.append(result)\n",
        "\n",
        "result_after_clean_df = pd.DataFrame({\n",
        "    \"table_name\": [r[0] for r in results_after_cleaning],\n",
        "    \"total_rows\": [r[1] for r in results_after_cleaning],\n",
        "    \"total_columns\": [r[2] for r in results_after_cleaning],\n",
        "    \"null_rows\": [r[3] for r in results_after_cleaning],\n",
        "    \"duplicate_rows\": [r[4] for r in results_after_cleaning]\n",
        "})\n",
        "\n",
        "display(result_after_clean_df)"
      ]
    },
    {
      "cell_type": "markdown",
      "metadata": {
        "id": "azslx98LYZCi"
      },
      "source": [
        "### Cast Data Types"
      ]
    },
    {
      "cell_type": "code",
      "execution_count": null,
      "metadata": {
        "id": "Q5xl-Hc5W4Gu"
      },
      "outputs": [],
      "source": [
        "# Convert 'OPENING_DATE' and 'DELIVERY_START' columns to datetime objects\n",
        "for df_name in ['df_restaurants']:\n",
        "    try:\n",
        "        df = globals()[df_name]\n",
        "        for col in ['OPENING_DATE', 'DELIVERY_START']:\n",
        "            if col in df.columns:\n",
        "                df[col] = pd.to_datetime(df[col], errors='coerce')  # Use errors='coerce' to handle invalid dates\n",
        "    except KeyError:\n",
        "        print(f\"DataFrame '{df_name}' or column not found.\")\n",
        "    except Exception as e:\n",
        "        print(f\"An error occurred while converting '{df_name}' column: {e}\")\n",
        "\n",
        "# Display the results\n",
        "get_dataframe_info(dataframes, dataframe_names)"
      ]
    },
    {
      "cell_type": "markdown",
      "metadata": {
        "id": "0gXrX0xRNsEV"
      },
      "source": [
        "### Add Date Dimensions"
      ]
    },
    {
      "cell_type": "code",
      "execution_count": null,
      "metadata": {
        "id": "Ny9KwT5cNvsB"
      },
      "outputs": [],
      "source": [
        "df_orders_7['DATE'] = pd.to_datetime(df_orders_7['DATETIME']).dt.date\n",
        "df_orders_7['HOUR'] = pd.to_datetime(df_orders_7['DATETIME']).dt.hour\n",
        "df_orders_7['QUARTER'] = pd.to_datetime(df_orders_7['DATETIME']).dt.quarter\n",
        "df_orders_7['YEAR'] = pd.to_datetime(df_orders_7['DATETIME']).dt.year\n",
        "\n",
        "df_orders = df_orders_7\n",
        "df_orders.head()"
      ]
    },
    {
      "cell_type": "markdown",
      "metadata": {
        "id": "z4tUnFOLjexR"
      },
      "source": [
        "### Normalize Data (Orders)"
      ]
    },
    {
      "cell_type": "code",
      "execution_count": null,
      "metadata": {
        "id": "_JQpdzWBjdp6"
      },
      "outputs": [],
      "source": [
        "# Assuming 'df_orders' is your DataFrame\n",
        "def normalize_item_column(df):\n",
        "    \"\"\"Normalizes 'MAIN_NAME', 'BASE_NAME', 'SIDE_1_NAME', 'SIDE_2_NAME' into an 'ITEM_NAME'.\"\"\"\n",
        "\n",
        "    # Melt the DataFrame to combine the columns into a single column\n",
        "    df_melted = pd.melt(df,\n",
        "                        id_vars=df.columns.difference(['MAIN_NAME', 'BASE_NAME', 'SIDE_1_NAME', 'SIDE_2_NAME']),\n",
        "                        value_vars=['MAIN_NAME', 'BASE_NAME', 'SIDE_1_NAME', 'SIDE_2_NAME'],\n",
        "                        var_name='ITEM_CATEGORY',\n",
        "                        value_name='ITEM_NAME')\n",
        "\n",
        "    # Remove rows where 'ITEM_CATEGORY' is NaN\n",
        "    df_melted = df_melted.dropna(subset=['ITEM_CATEGORY'])\n",
        "\n",
        "    return df_melted\n",
        "\n",
        "# Select Only Columns Needed\n",
        "selected_columns = ['ORDER_ID', 'DATE', 'HOUR', 'QUARTER',\t'YEAR', 'TYPE', 'RESTAURANT_NAME', 'MAIN_NAME', 'BASE_NAME', 'SIDE_1_NAME', 'SIDE_2_NAME']\n",
        "df_orders_norm = df_orders[selected_columns]\n",
        "\n",
        "# Display the results\n",
        "df_orders_norm = normalize_item_column(df_orders_norm).sort_values(by='ORDER_ID').reset_index(drop=True)\n",
        "df_orders_norm.head()"
      ]
    },
    {
      "cell_type": "markdown",
      "metadata": {
        "id": "q__EcUfcD2mm"
      },
      "source": [
        "## DataFrames Available for Analysis"
      ]
    },
    {
      "cell_type": "code",
      "execution_count": null,
      "metadata": {
        "id": "H7f3MCQTn9oy"
      },
      "outputs": [],
      "source": [
        "# Print the names of all dataframes in the current namespace, excluding those starting with \"_\" and \"dataframe_info\"\n",
        "for var_name in dir():\n",
        "    if isinstance(globals()[var_name], pd.DataFrame) and not var_name.startswith(\"_\") and var_name != \"dataframe_info\":\n",
        "        # Print the variable name if it meets the conditions\n",
        "        print(f\"DataFrame name: {var_name}\")\n",
        "        # Display the top 6 rows of the DataFrame\n",
        "        display(globals()[var_name].head(6))\n",
        "        print(\"-\" * 20)  # Print a separator line for clarity"
      ]
    },
    {
      "cell_type": "markdown",
      "metadata": {
        "id": "10KRL2y5kf-4"
      },
      "source": [
        "## **Data Analysis & Visualization**"
      ]
    },
    {
      "cell_type": "markdown",
      "metadata": {
        "id": "bLe6AE8Q58MW"
      },
      "source": [
        "### Orders"
      ]
    },
    {
      "cell_type": "markdown",
      "metadata": {
        "id": "HxjkcKhq1MGR"
      },
      "source": [
        "#### Data Preparation"
      ]
    },
    {
      "cell_type": "code",
      "execution_count": null,
      "metadata": {
        "id": "4GszZycaodGL"
      },
      "outputs": [],
      "source": [
        "orders_total = (df_summarized_orders\n",
        "                     .groupby('DATE')\n",
        "                     .agg({'NUM_ORDERS': 'sum', 'PERC_DELIVERY': 'mean'})\n",
        "                     .reset_index())\n",
        "\n",
        "# Convert 'DATE' column to datetime objects if not already\n",
        "orders_total['DATE'] = pd.to_datetime(orders_total['DATE'])\n",
        "\n",
        "# Extract month names and aggregate orders by month\n",
        "monthly_orders = (orders_total\n",
        "                 .assign(MONTH_NAME=orders_total['DATE'].dt.strftime('%B'),\n",
        "                        MONTH_NUM=orders_total['DATE'].dt.month)  # Add month number for sorting\n",
        "                 .groupby('MONTH_NAME')['NUM_ORDERS']\n",
        "                 .sum()\n",
        "                 .reset_index())\n",
        "\n",
        "# Sort by month number\n",
        "monthly_orders['MONTH_NAME'] = pd.Categorical(monthly_orders['MONTH_NAME'],\n",
        "                                            categories=month_order,\n",
        "                                            ordered=True)\n",
        "\n",
        "monthly_orders = monthly_orders.sort_values('MONTH_NAME').reset_index(drop=True)\n",
        "monthly_orders"
      ]
    },
    {
      "cell_type": "code",
      "execution_count": null,
      "metadata": {
        "id": "pKB1FcoXjUxA"
      },
      "outputs": [],
      "source": [
        "orders_restaurant = (df_summarized_orders\n",
        "                     .sort_values(by=['DATE', 'NUM_ORDERS'], ascending=[True, False])\n",
        "                     .reset_index(drop=True))\n",
        "\n",
        "# Convert 'DATE' column to datetime objects\n",
        "orders_restaurant['DATE'] = pd.to_datetime(orders_restaurant['DATE'])\n",
        "\n",
        "# Extract month names and aggregate orders by month and restaurant\n",
        "monthly_restaurant_orders = (orders_restaurant\n",
        "    .assign(MONTH_NAME=orders_restaurant['DATE'].dt.strftime('%B'))\n",
        "    .groupby(['MONTH_NAME', 'RESTAURANT_NAME'])\n",
        "    .agg({\n",
        "        'NUM_ORDERS': 'sum',\n",
        "        'PERC_DELIVERY': 'mean'  # Taking average of delivery percentage\n",
        "    })\n",
        "    .reset_index())\n",
        "\n",
        "monthly_restaurant_orders['MONTH_NAME'] = pd.Categorical(\n",
        "    monthly_restaurant_orders['MONTH_NAME'],\n",
        "    categories=month_order,\n",
        "    ordered=True\n",
        ")\n",
        "\n",
        "monthly_restaurant_orders = monthly_restaurant_orders.sort_values(['MONTH_NAME', 'RESTAURANT_NAME']).reset_index(drop=True)\n",
        "\n",
        "# First, calculate total orders per restaurant across all months\n",
        "total_orders_per_restaurant = orders_restaurant.groupby('RESTAURANT_NAME')['NUM_ORDERS'].sum().reset_index()\n",
        "\n",
        "# Merge with the restaurant locations and monthly data\n",
        "restaurant_orders_map = (orders_restaurant\n",
        "    .merge(df_restaurants, left_on='RESTAURANT_NAME', right_on='NAME', how='left')\n",
        "    .merge(total_orders_per_restaurant,\n",
        "           on='RESTAURANT_NAME',\n",
        "           suffixes=('_monthly', '_total'))\n",
        ")\n",
        "\n",
        "# Group by month and restaurant while keeping the total orders\n",
        "monthly_restaurant_map = (restaurant_orders_map\n",
        "    .assign(MONTH_NAME=lambda x: x['DATE'].dt.strftime('%B'))\n",
        "    .groupby(['RESTAURANT_NAME', 'LAT', 'LONG', 'MONTH_NAME', 'NUM_ORDERS_total'])\n",
        "    .agg({'NUM_ORDERS_monthly': 'sum'})\n",
        "    .reset_index())\n",
        "\n",
        "monthly_restaurant_map"
      ]
    },
    {
      "cell_type": "code",
      "execution_count": null,
      "metadata": {
        "id": "1hw4ez5F7Hlx"
      },
      "outputs": [],
      "source": [
        "orders_restaurant_total = (monthly_restaurant_map\n",
        "                         [['RESTAURANT_NAME', 'NUM_ORDERS_total']]\n",
        "                         .reset_index(drop=True)\n",
        "                         .drop_duplicates()\n",
        "                         .sort_values(by=['NUM_ORDERS_total'], ascending=False)\n",
        "                         .reset_index(drop=True)\n",
        "                         .rename(columns={'NUM_ORDERS_total': 'TOTAL_ORDERS'}))\n",
        "orders_restaurant_total"
      ]
    },
    {
      "cell_type": "code",
      "execution_count": null,
      "metadata": {
        "id": "KydsVBMVDSIx"
      },
      "outputs": [],
      "source": [
        "orders_restaurant_monthly_avg = (monthly_restaurant_map\n",
        "                                 .groupby('RESTAURANT_NAME')[['NUM_ORDERS_monthly']]\n",
        "                                 .mean()\n",
        "                                 .sort_values(by=['NUM_ORDERS_monthly'], ascending=False)\n",
        "                                 .reset_index()\n",
        "                                 .rename(columns={'NUM_ORDERS_monthly': 'MONTHLY_AVG'}))\n",
        "orders_restaurant_monthly_avg"
      ]
    },
    {
      "cell_type": "code",
      "execution_count": null,
      "metadata": {
        "id": "p5CCOUK2ZWue"
      },
      "outputs": [],
      "source": [
        "orders_restaurant_daily_avg = (orders_restaurant\n",
        "                               .groupby('RESTAURANT_NAME')[['NUM_ORDERS']]\n",
        "                               .mean()\n",
        "                               .sort_values(by=['NUM_ORDERS'], ascending=False)\n",
        "                               .reset_index()\n",
        "                               .rename(columns={'NUM_ORDERS': 'DAILY_AVG'}))\n",
        "orders_restaurant_daily_avg"
      ]
    },
    {
      "cell_type": "markdown",
      "metadata": {
        "id": "KTJZmOX51gwz"
      },
      "source": [
        "#### Visualizations"
      ]
    },
    {
      "cell_type": "code",
      "execution_count": null,
      "metadata": {
        "id": "VCeAcIw_avWS"
      },
      "outputs": [],
      "source": [
        "# Create color mapping for restaurants\n",
        "restaurant_color_map = dict(zip(\n",
        "    orders_restaurant_total['RESTAURANT_NAME'].unique(),\n",
        "    [default_colors[i % len(default_colors)] for i in range(len(orders_restaurant_total['RESTAURANT_NAME'].unique()))]\n",
        "))\n",
        "\n",
        "display(restaurant_color_map)"
      ]
    },
    {
      "cell_type": "markdown",
      "metadata": {
        "id": "gEI5pZp8eOZU"
      },
      "source": [
        "##### Total Orders (by Month)"
      ]
    },
    {
      "cell_type": "code",
      "execution_count": null,
      "metadata": {
        "id": "r2Bo633Oc2wI"
      },
      "outputs": [],
      "source": [
        "# Create line chart using Plotly\n",
        "fig = go.Figure()\n",
        "fig.add_trace(go.Scatter(\n",
        "    x=monthly_orders['MONTH_NAME'],\n",
        "    y=monthly_orders['NUM_ORDERS'],\n",
        "    mode='lines+markers'\n",
        "))\n",
        "\n",
        "# Update layout\n",
        "fig.update_layout(\n",
        "    title='2018 Total Orders (by Month)',\n",
        "    xaxis_title='Month',\n",
        "    yaxis_title='Number of Orders',\n",
        "    width=1000,\n",
        "    height=500\n",
        ")\n",
        "\n",
        "# Show the plot\n",
        "fig.show()"
      ]
    },
    {
      "cell_type": "markdown",
      "metadata": {
        "id": "k8KGLbZi66Zw"
      },
      "source": [
        "##### Total Orders (by Restaurant)"
      ]
    },
    {
      "cell_type": "code",
      "execution_count": null,
      "metadata": {
        "id": "ZTp5nIXh69js"
      },
      "outputs": [],
      "source": [
        "orders_restaurant_total = orders_restaurant_total.sort_values('TOTAL_ORDERS', ascending=True)\n",
        "\n",
        "# Create the horizontal bar chart with custom colors\n",
        "plt.figure(figsize=(12, 6))\n",
        "bars = plt.barh(\n",
        "    orders_restaurant_total['RESTAURANT_NAME'],\n",
        "    orders_restaurant_total['TOTAL_ORDERS'],\n",
        "    color=[restaurant_color_map[restaurant] for restaurant in orders_restaurant_total['RESTAURANT_NAME']]\n",
        ")\n",
        "\n",
        "plt.ylabel('Restaurant Name')\n",
        "plt.xlabel('Total Orders')\n",
        "plt.title('2018 Total Orders per Restaurant')\n",
        "\n",
        "# Format x-axis ticks with commas\n",
        "plt.gca().xaxis.set_major_formatter(ticker.FuncFormatter(lambda x, p: format(int(x), ',')))\n",
        "\n",
        "# Add values inside the bars, at the end\n",
        "for bar in bars:\n",
        "    width = bar.get_width()\n",
        "    plt.text(\n",
        "        width - 50,  # Position text near the end of the bar\n",
        "        bar.get_y() + bar.get_height() / 2,\n",
        "        f'{int(width):,}',  # Format value with commas\n",
        "        ha='right',  # Align text to the right\n",
        "        va='center',  # Vertically center the text\n",
        "        color='white',  # Set text color to white\n",
        "        fontweight='bold',  # Make text bold for better visibility\n",
        "        fontsize=9\n",
        "    )\n",
        "\n",
        "plt.tight_layout()\n",
        "plt.show()"
      ]
    },
    {
      "cell_type": "markdown",
      "metadata": {
        "id": "pCi4Gt7ti5IY"
      },
      "source": [
        "##### Monthly Orders (by Restaurant)"
      ]
    },
    {
      "cell_type": "code",
      "execution_count": null,
      "metadata": {
        "id": "VNph5Jt58vne"
      },
      "outputs": [],
      "source": [
        "# Group the data by restaurant and calculate total orders\n",
        "restaurant_totals = monthly_restaurant_map.groupby('RESTAURANT_NAME')['NUM_ORDERS_monthly'].sum().reset_index()\n",
        "restaurant_totals = restaurant_totals.sort_values('NUM_ORDERS_monthly', ascending=False)\n",
        "sorted_restaurants = restaurant_totals['RESTAURANT_NAME'].tolist()\n",
        "\n",
        "# Create subplots for each restaurant\n",
        "num_restaurants = len(sorted_restaurants)\n",
        "num_cols = 3  # Number of columns in the subplot grid\n",
        "num_rows = (num_restaurants + num_cols - 1) // num_cols\n",
        "\n",
        "fig, axes = plt.subplots(num_rows, num_cols, figsize=(15, 5 * num_rows))\n",
        "axes = axes.ravel()  # Flatten the axes array for easy iteration\n",
        "\n",
        "for i, restaurant in enumerate(sorted_restaurants):\n",
        "    restaurant_data = monthly_restaurant_map[monthly_restaurant_map['RESTAURANT_NAME'] == restaurant]\n",
        "\n",
        "    # Sort by month name for correct order on the x-axis\n",
        "    restaurant_data['MONTH_NAME'] = pd.Categorical(restaurant_data['MONTH_NAME'],\n",
        "                                                categories=month_order,\n",
        "                                                ordered=True)\n",
        "    restaurant_data = restaurant_data.sort_values('MONTH_NAME')\n",
        "\n",
        "    # Create bar plot with custom color\n",
        "    bars = axes[i].bar(\n",
        "        restaurant_data['MONTH_NAME'],\n",
        "        restaurant_data['NUM_ORDERS_monthly'],\n",
        "        color=restaurant_color_map[restaurant]\n",
        "    )\n",
        "\n",
        "    # Add value labels on top of each bar with smaller font size\n",
        "    for bar in bars:\n",
        "        height = bar.get_height()\n",
        "        axes[i].text(\n",
        "            bar.get_x() + bar.get_width()/2.,\n",
        "            height,\n",
        "            f'{int(height):,}',\n",
        "            ha='center',\n",
        "            va='bottom',\n",
        "            fontsize=9\n",
        "        )\n",
        "\n",
        "    # Add total orders to the title\n",
        "    total_orders = restaurant_totals.loc[restaurant_totals['RESTAURANT_NAME'] == restaurant, 'NUM_ORDERS_monthly'].iloc[0]\n",
        "    axes[i].set_title(f'Monthly Orders - {restaurant}\\nTotal Orders: {int(total_orders):,}')\n",
        "    axes[i].set_xlabel('Month')\n",
        "    axes[i].set_ylabel('Number of Orders')\n",
        "    axes[i].tick_params(axis='x', rotation=45)\n",
        "\n",
        "    # Format y-axis with comma separator\n",
        "    axes[i].yaxis.set_major_formatter(ticker.FuncFormatter(lambda x, p: format(int(x), ',')))\n",
        "\n",
        "# Add a tight layout to prevent overlapping labels\n",
        "plt.tight_layout()\n",
        "\n",
        "# Hide any unused subplots\n",
        "for j in range(i + 1, len(axes)):\n",
        "    fig.delaxes(axes[j])\n",
        "\n",
        "plt.show()"
      ]
    },
    {
      "cell_type": "code",
      "execution_count": null,
      "metadata": {
        "id": "Gt_4UoFhi7lw"
      },
      "outputs": [],
      "source": [
        "monthly_restaurant_map = monthly_restaurant_map.sort_values('NUM_ORDERS_total', ascending=False)\n",
        "\n",
        "# Apply categorical ordering to 'MONTH_NAME'\n",
        "monthly_restaurant_map['MONTH_NAME'] = pd.Categorical(\n",
        "    monthly_restaurant_map['MONTH_NAME'],\n",
        "    categories=month_order,\n",
        "    ordered=True\n",
        ")\n",
        "\n",
        "# Sort the DataFrame by 'MONTH_NAME'\n",
        "monthly_restaurant_map = monthly_restaurant_map.sort_values(['MONTH_NAME']).reset_index(drop=True)\n",
        "\n",
        "# Create animated map\n",
        "fig = px.scatter_mapbox(\n",
        "    monthly_restaurant_map.sort_values('MONTH_NAME'),\n",
        "    lat='LAT',\n",
        "    lon='LONG',\n",
        "    size='NUM_ORDERS_total',\n",
        "    color='RESTAURANT_NAME',\n",
        "    animation_frame='MONTH_NAME',\n",
        "    hover_name='RESTAURANT_NAME',\n",
        "    hover_data={\n",
        "        'LAT': False,\n",
        "        'LONG': False,\n",
        "        'NUM_ORDERS_monthly': True,\n",
        "        'NUM_ORDERS_total': True,\n",
        "        'MONTH_NAME': True\n",
        "    },\n",
        "    labels={\n",
        "        'MONTH_NAME': 'Month ',\n",
        "        'NUM_ORDERS_monthly': 'Month Orders ',\n",
        "        'NUM_ORDERS_total': 'Total Orders ',\n",
        "        'RESTAURANT_NAME': 'Restaurant'\n",
        "    },\n",
        "    color_discrete_map=restaurant_color_map,\n",
        "    zoom=11.5,\n",
        "    title='2018 Orders (by Restaurant)'\n",
        ")\n",
        "\n",
        "# Update the map style and layout\n",
        "fig.update_layout(\n",
        "    mapbox_style='carto-positron',\n",
        "    width=1200,\n",
        "    height=800,\n",
        "    margin={\"r\":0,\"t\":30,\"l\":0,\"b\":0}\n",
        ")\n",
        "\n",
        "fig.update_traces(\n",
        "    hovertemplate=\"<b>%{hovertext}</b><br>\" +\n",
        "                  \"%{customdata[4]} Orders: %{customdata[2]:,}<br>\" +\n",
        "                  \"Total Yearly Orders: %{customdata[3]:,}<br>\"\n",
        ")\n",
        "\n",
        "# Show the animated map\n",
        "fig.show()"
      ]
    },
    {
      "cell_type": "markdown",
      "metadata": {
        "id": "nfIsj555DI6b"
      },
      "source": [
        "##### Monthly Average (by Restaurant)"
      ]
    },
    {
      "cell_type": "code",
      "execution_count": null,
      "metadata": {
        "id": "31fcTPPTDHaQ"
      },
      "outputs": [],
      "source": [
        "orders_restaurant_monthly_avg = orders_restaurant_monthly_avg.sort_values(by='MONTHLY_AVG', ascending=True)\n",
        "\n",
        "plt.figure(figsize=(12, 6))\n",
        "\n",
        "# Create horizontal bars with custom colors\n",
        "bars = plt.barh(\n",
        "    orders_restaurant_monthly_avg['RESTAURANT_NAME'],\n",
        "    orders_restaurant_monthly_avg['MONTHLY_AVG'],\n",
        "    color=[restaurant_color_map[restaurant] for restaurant in orders_restaurant_monthly_avg['RESTAURANT_NAME']]\n",
        ")\n",
        "\n",
        "plt.xlabel('Monthly Average Orders')\n",
        "plt.ylabel('Restaurant Name')\n",
        "plt.title('2018 Monthly Average Orders per Restaurant')\n",
        "\n",
        "# Format x-axis ticks with commas\n",
        "plt.gca().xaxis.set_major_formatter(ticker.FuncFormatter(lambda x, p: format(int(x), ',')))\n",
        "\n",
        "# Add values on the bars\n",
        "for bar in bars:\n",
        "    width = bar.get_width()\n",
        "    plt.text(\n",
        "        width - 10,  # Adjust position slightly to the left of the bar end\n",
        "        bar.get_y() + bar.get_height() / 2,\n",
        "        f'{int(width):,}',  # Format value with commas\n",
        "        ha='right',  # Align text to the right\n",
        "        va='center',  # Vertically center the text\n",
        "        color='white',  # Set text color to white\n",
        "        fontweight='bold',  # Make text bold for better visibility\n",
        "        fontsize=9\n",
        "    )\n",
        "\n",
        "plt.tight_layout()\n",
        "plt.show()"
      ]
    },
    {
      "cell_type": "markdown",
      "metadata": {
        "id": "8erPWZFGZYW2"
      },
      "source": [
        "##### Daily Average (by Restaurant)"
      ]
    },
    {
      "cell_type": "code",
      "execution_count": null,
      "metadata": {
        "id": "WoUlOb2hCR06"
      },
      "outputs": [],
      "source": [
        "orders_restaurant_daily_avg = orders_restaurant_daily_avg.sort_values(by='DAILY_AVG', ascending=True)\n",
        "plt.figure(figsize=(12, 6))\n",
        "\n",
        "# Create horizontal bars with custom colors\n",
        "bars = plt.barh(\n",
        "    orders_restaurant_daily_avg['RESTAURANT_NAME'],\n",
        "    orders_restaurant_daily_avg['DAILY_AVG'],\n",
        "    color=[restaurant_color_map[restaurant] for restaurant in orders_restaurant_daily_avg['RESTAURANT_NAME']]\n",
        ")\n",
        "\n",
        "plt.xlabel('Daily Average Orders')\n",
        "plt.ylabel('Restaurant Name')\n",
        "plt.title('2018 Daily Average Orders per Restaurant')\n",
        "\n",
        "# Format x-axis ticks with commas\n",
        "plt.gca().xaxis.set_major_formatter(ticker.FuncFormatter(lambda x, p: format(int(x), ',')))\n",
        "\n",
        "# Add values on the bars\n",
        "for bar in bars:\n",
        "    width = bar.get_width()\n",
        "    plt.text(\n",
        "        width - 10,  # Adjust position slightly to the left of the bar end\n",
        "        bar.get_y() + bar.get_height() / 2,\n",
        "        f'{int(width):,}',  # Format value with commas\n",
        "        ha='right',  # Align text to the right\n",
        "        va='center',  # Vertically center the text\n",
        "        color='white',  # Set text color to white\n",
        "        fontweight='bold',  # Make text bold for better visibility\n",
        "        fontsize=9\n",
        "    )\n",
        "\n",
        "plt.tight_layout()\n",
        "plt.show()"
      ]
    },
    {
      "cell_type": "markdown",
      "metadata": {
        "id": "p1VZr9DM6FZN"
      },
      "source": [
        "### Items"
      ]
    },
    {
      "cell_type": "markdown",
      "metadata": {
        "id": "yaxAHGGu0ri-"
      },
      "source": [
        "#### Data Preparation"
      ]
    },
    {
      "cell_type": "code",
      "execution_count": null,
      "metadata": {
        "id": "RRwyy3TWEJ1F"
      },
      "outputs": [],
      "source": [
        "orders_item_restaurant = (df_orders_norm\n",
        "                          .groupby(['DATE', 'RESTAURANT_NAME', 'ITEM_NAME'])['ORDER_ID']\n",
        "                          .count()\n",
        "                          .reset_index()\n",
        "                          .rename(columns={'ORDER_ID': 'COUNT'}))\n",
        "\n",
        "orders_item_restaurant"
      ]
    },
    {
      "cell_type": "code",
      "execution_count": null,
      "metadata": {
        "id": "ABYpGMpzykiw"
      },
      "outputs": [],
      "source": [
        "monthly_item_restaurant = (orders_item_restaurant\n",
        "    .assign(MONTH_NAME=pd.to_datetime(orders_item_restaurant['DATE']).dt.strftime('%B'))\n",
        "    .groupby(['MONTH_NAME', 'RESTAURANT_NAME', 'ITEM_NAME'])\n",
        "    .agg({'COUNT': 'sum'})\n",
        "    .reset_index())\n",
        "\n",
        "# Sort months chronologically\n",
        "monthly_item_restaurant['MONTH_NAME'] = pd.Categorical(\n",
        "    monthly_item_restaurant['MONTH_NAME'],\n",
        "    categories=month_order,\n",
        "    ordered=True\n",
        ")\n",
        "\n",
        "monthly_item_restaurant = monthly_item_restaurant.sort_values(['MONTH_NAME', 'RESTAURANT_NAME']).reset_index(drop=True)\n",
        "monthly_item_restaurant"
      ]
    },
    {
      "cell_type": "code",
      "execution_count": null,
      "metadata": {
        "id": "BQSib4Flz-ZS"
      },
      "outputs": [],
      "source": [
        "avg_orders_by_restaurant_item = (monthly_item_restaurant\n",
        "                                 .groupby(['RESTAURANT_NAME', 'ITEM_NAME'])['COUNT']\n",
        "                                 .mean()\n",
        "                                 .reset_index()\n",
        "                                 .rename(columns={'COUNT': 'AVG_COUNT'})\n",
        "                                 .sort_values(by=['AVG_COUNT'], ascending=True)\n",
        "                                 .reset_index(drop=True)\n",
        "                                )\n",
        "avg_orders_by_restaurant_item"
      ]
    },
    {
      "cell_type": "code",
      "execution_count": null,
      "metadata": {
        "id": "P2PScKlbwQuJ"
      },
      "outputs": [],
      "source": [
        "orders_item_restaurant_total = (monthly_item_restaurant\n",
        "                                .groupby(['RESTAURANT_NAME', 'ITEM_NAME'])['COUNT']\n",
        "                                .sum()\n",
        "                                .reset_index())\n",
        "orders_item_restaurant_total"
      ]
    },
    {
      "cell_type": "code",
      "execution_count": null,
      "metadata": {
        "id": "Pm2K7p-FzaN9"
      },
      "outputs": [],
      "source": [
        "monthly_item_counts = (monthly_item_restaurant\n",
        "                       .groupby(['MONTH_NAME', 'RESTAURANT_NAME', 'ITEM_NAME'])['COUNT']\n",
        "                       .sum()\n",
        "                       .reset_index())\n",
        "\n",
        "monthly_item_counts['MONTH_NAME'] = pd.Categorical(monthly_item_counts['MONTH_NAME'],\n",
        "                                                 categories=month_order,\n",
        "                                                 ordered=True)\n",
        "monthly_item_counts"
      ]
    },
    {
      "cell_type": "code",
      "execution_count": null,
      "metadata": {
        "id": "fBTMkN7ekPkw"
      },
      "outputs": [],
      "source": [
        "item_counts = (monthly_item_restaurant\n",
        "               .groupby(['ITEM_NAME'])['COUNT']\n",
        "               .sum()\n",
        "               .reset_index()\n",
        "               .sort_values(by='COUNT', ascending=True)\n",
        "               .reset_index(drop=True))\n",
        "item_counts"
      ]
    },
    {
      "cell_type": "code",
      "execution_count": null,
      "metadata": {
        "id": "7etAKz-1DTYT"
      },
      "outputs": [],
      "source": [
        "orders_drinks = (df_orders\n",
        "                 .groupby(['DATE'])[['DRINKS', 'COOKIES']]\n",
        "                 .sum()\n",
        "                 .sort_values(by=['DATE'], ascending=True)\n",
        "                 .reset_index())\n",
        "orders_drinks"
      ]
    },
    {
      "cell_type": "markdown",
      "metadata": {
        "id": "gXUqvbqF04lY"
      },
      "source": [
        "#### Visualizations"
      ]
    },
    {
      "cell_type": "code",
      "execution_count": null,
      "metadata": {
        "id": "ApVl5cObRH6t"
      },
      "outputs": [],
      "source": [
        "# Create color mapping for items\n",
        "item_color_map = dict(zip(\n",
        "    item_counts['ITEM_NAME'].unique(),\n",
        "    [default_colors[i % len(default_colors)] for i in range(len(item_counts['ITEM_NAME'].unique()))]\n",
        "))\n",
        "\n",
        "display(item_color_map)"
      ]
    },
    {
      "cell_type": "markdown",
      "metadata": {
        "id": "YZM7jYqTnUhv"
      },
      "source": [
        "##### Total Items Sold"
      ]
    },
    {
      "cell_type": "code",
      "execution_count": null,
      "metadata": {
        "id": "LRcCur_Y-23N"
      },
      "outputs": [],
      "source": [
        "# Sort the dataframe by COUNT in descending order\n",
        "item_counts_sorted = item_counts.sort_values('COUNT', ascending=False)\n",
        "\n",
        "# Create the horizontal bar chart using Plotly with custom tooltip\n",
        "fig = px.bar(\n",
        "    item_counts_sorted,\n",
        "    y='ITEM_NAME',\n",
        "    x='COUNT',\n",
        "    title='Total Items Sold in 2018',\n",
        "    orientation='h',\n",
        "    color='ITEM_NAME',\n",
        "    color_discrete_map=item_color_map,\n",
        "    custom_data=['ITEM_NAME', 'COUNT'],\n",
        "    text=item_counts_sorted['COUNT'].apply(lambda x: f'{x:,.0f}')\n",
        ")\n",
        "\n",
        "# Update layout and configure hover template\n",
        "fig.update_layout(\n",
        "    yaxis_title='Item Name',\n",
        "    xaxis_title='Total Count',\n",
        "    margin=dict(l=200),\n",
        "    width=1200,\n",
        "    height=800,\n",
        "    xaxis=dict(\n",
        "        tickformat=',.0f',\n",
        "    ),\n",
        "    showlegend=False\n",
        ")\n",
        "\n",
        "# Customize the text position and appearance\n",
        "fig.update_traces(\n",
        "    textposition='auto',\n",
        "    textfont=dict(\n",
        "        color='white',\n",
        "        size=12\n",
        "    )\n",
        ")\n",
        "\n",
        "# Convert to static image\n",
        "fig.update_layout(\n",
        "    dragmode=False,  # Disable drag mode\n",
        "    hovermode=False  # Disable hover tooltips\n",
        ")\n",
        "\n",
        "# Remove all interactivity\n",
        "config = {\n",
        "    'staticPlot': True,  # Make the plot static\n",
        "    'displayModeBar': False  # Remove the mode bar\n",
        "}\n",
        "\n",
        "\n",
        "# Display the static chart\n",
        "fig.show(config=config)\n",
        "\n",
        "# Save plot to display it in the recommendations later\n",
        "fig.write_image(\"total_items_sold.png\")"
      ]
    },
    {
      "cell_type": "markdown",
      "metadata": {
        "id": "8RRg8XQynQGn"
      },
      "source": [
        "##### Monthly Item Sales"
      ]
    },
    {
      "cell_type": "code",
      "execution_count": null,
      "metadata": {
        "id": "_TR6Do--XOrZ"
      },
      "outputs": [],
      "source": [
        "# 1. Prepare data for Highcharts\n",
        "series_data = []\n",
        "for item_name in monthly_item_counts['ITEM_NAME'].unique():\n",
        "    item_data = []\n",
        "    for month in month_order:\n",
        "        monthly_data = monthly_item_counts[\n",
        "            (monthly_item_counts['ITEM_NAME'] == item_name) & (monthly_item_counts['MONTH_NAME'] == month)\n",
        "        ]\n",
        "        if not monthly_data.empty:\n",
        "            # Get unique restaurant names\n",
        "            restaurants = monthly_data['RESTAURANT_NAME'].unique()\n",
        "            restaurant_list = '<br/>'.join(restaurants)\n",
        "\n",
        "            total_count = monthly_data['COUNT'].sum()\n",
        "\n",
        "            item_data.append({\n",
        "                'y': int(total_count),\n",
        "                'restaurants': restaurant_list\n",
        "            })\n",
        "        else:\n",
        "            item_data.append(None)\n",
        "\n",
        "    series_data.append({\n",
        "        'name': item_name,\n",
        "        'data': item_data,\n",
        "        'type': 'line',\n",
        "        'color': item_color_map.get(item_name, '#000000'),  # Default to black if color not found\n",
        "        'tooltip': {\n",
        "            'headerFormat': '<span style=\"font-size: 14px\">{point.key}</span><br/>',\n",
        "            'pointFormat': (\n",
        "                '<span style=\"color:{series.color}\">{series.name}</span>: <b>{point.y}</b><br/>'\n",
        "            )\n",
        "        }\n",
        "    })\n",
        "\n",
        "# 2. Define chart options\n",
        "options = {\n",
        "    'title': {'text': 'Monthly Sales by Item Name'},\n",
        "    'xAxis': {'categories': month_order},\n",
        "    'yAxis': {'title': {'text': 'Number of Orders'}},\n",
        "    'series': series_data,\n",
        "    'chart': {\n",
        "        'height': 700,\n",
        "        'width': 1200\n",
        "    },\n",
        "    'colors': default_colors  # Apply color scheme\n",
        "}\n",
        "\n",
        "# 3. Create and display the chart\n",
        "chart = Chart(options=options)\n",
        "chart"
      ]
    },
    {
      "cell_type": "markdown",
      "metadata": {
        "id": "q46eNuy7v5l_"
      },
      "source": [
        "##### Monthly Average Item Sales (by Restaurant)"
      ]
    },
    {
      "cell_type": "code",
      "execution_count": null,
      "metadata": {
        "id": "C_FIXIzElziz"
      },
      "outputs": [],
      "source": [
        "# Create the horizontal bar chart with custom colors\n",
        "fig = px.bar(\n",
        "    avg_orders_by_restaurant_item,\n",
        "    y='ITEM_NAME',\n",
        "    x='AVG_COUNT',\n",
        "    color='RESTAURANT_NAME',\n",
        "    orientation='h',\n",
        "    title='Monthly Average Item Sales (by Item and Restaurant)',\n",
        "    labels={\n",
        "        'ITEM_NAME': 'Item Name',\n",
        "        'AVG_COUNT': 'Monthly Average Orders',\n",
        "        'RESTAURANT_NAME': 'Restaurant'\n",
        "    },\n",
        "    height=800,\n",
        "    # Pass the 'restaurant_color_map' directly to color_discrete_map\n",
        "    color_discrete_map=restaurant_color_map\n",
        ")\n",
        "\n",
        "# Update layout for better readability\n",
        "fig.update_layout(\n",
        "    showlegend=True,\n",
        "    legend_title='Restaurant',\n",
        "    barmode='group',\n",
        "    yaxis={'categoryorder': 'total ascending'},\n",
        "    xaxis_title='Monthly Average Orders',\n",
        "    yaxis_title='Item Name',\n",
        "    margin=dict(l=200),\n",
        "    width=1200,\n",
        "    height=800,\n",
        "    font=dict(size=12),\n",
        "    title_font_size=20,\n",
        "    xaxis=dict(\n",
        "        tickformat=',.0f'\n",
        "    )\n",
        ")\n",
        "\n",
        "# Add formatted tooltips\n",
        "fig.update_traces(\n",
        "    hovertemplate=\"<b>Restaurant:</b> %{customdata}<br>\" +\n",
        "                  \"<b>Average Orders:</b> %{x:,.0f}<br>\" +\n",
        "                  \"<b>Item:</b> %{y}<br>\" +\n",
        "                  \"<extra></extra>\",\n",
        "    customdata=avg_orders_by_restaurant_item['RESTAURANT_NAME']\n",
        ")\n",
        "\n",
        "fig.show()"
      ]
    },
    {
      "cell_type": "markdown",
      "metadata": {
        "id": "OeKX7mpZDUX3"
      },
      "source": [
        "##### Drinks & Cookies Sold"
      ]
    },
    {
      "cell_type": "code",
      "execution_count": null,
      "metadata": {
        "id": "HQoNpYsbE-sZ"
      },
      "outputs": [],
      "source": [
        "# Create the line chart using Plotly\n",
        "fig = go.Figure()\n",
        "\n",
        "fig.add_trace(go.Scatter(x=orders_drinks['DATE'], y=orders_drinks['DRINKS'], mode='lines+markers', name='Drinks'))\n",
        "fig.add_trace(go.Scatter(x=orders_drinks['DATE'], y=orders_drinks['COOKIES'], mode='lines+markers', name='Cookies'))\n",
        "\n",
        "# Update layout\n",
        "fig.update_layout(\n",
        "    title='Drinks and Cookies Sold',\n",
        "    xaxis_title='Date',\n",
        "    yaxis_title='Quantity',\n",
        "    width=1000,\n",
        "    height=500\n",
        ")\n",
        "\n",
        "# Show the plot\n",
        "fig.show()"
      ]
    },
    {
      "cell_type": "markdown",
      "metadata": {
        "id": "mXcU15wx6dv_"
      },
      "source": [
        "### Order Type"
      ]
    },
    {
      "cell_type": "markdown",
      "metadata": {
        "id": "BPpsk1sHAs-i"
      },
      "source": [
        "#### Data Preparation"
      ]
    },
    {
      "cell_type": "code",
      "execution_count": null,
      "metadata": {
        "id": "QCkz_u9U7Xz0"
      },
      "outputs": [],
      "source": [
        "order_type_count = (df_orders\n",
        "                    .groupby(['DATE', 'TYPE'])['TYPE']\n",
        "                    .count()\n",
        "                    .reset_index(name='COUNT'))\n",
        "order_type_count"
      ]
    },
    {
      "cell_type": "code",
      "execution_count": null,
      "metadata": {
        "id": "mDEq1R_2ZP8p"
      },
      "outputs": [],
      "source": [
        "order_type_drinks = (df_orders\n",
        "                     .groupby(['DATE', 'TYPE'])[['DRINKS', 'COOKIES']]\n",
        "                     .sum()\n",
        "                     .sort_values(by=['DATE', 'TYPE'], ascending=True)\n",
        "                     .reset_index())\n",
        "\n",
        "order_type_drinks"
      ]
    },
    {
      "cell_type": "code",
      "execution_count": null,
      "metadata": {
        "id": "7duBehum93ui"
      },
      "outputs": [],
      "source": [
        "order_type_restaurant = (df_orders\n",
        "                         .groupby(['DATE', 'RESTAURANT_NAME', 'TYPE'])['TYPE']\n",
        "                         .count()\n",
        "                         .reset_index(name='COUNT'))\n",
        "order_type_restaurant"
      ]
    },
    {
      "cell_type": "code",
      "execution_count": null,
      "metadata": {
        "id": "uBNU5RPHpEsa"
      },
      "outputs": [],
      "source": [
        "order_type_restaurant_monthly = (order_type_restaurant\n",
        "                               .assign(MONTH_NAME=pd.to_datetime(order_type_restaurant['DATE']).dt.strftime('%B'))\n",
        "                               .groupby(['MONTH_NAME', 'RESTAURANT_NAME', 'TYPE'])['COUNT']\n",
        "                               .sum()\n",
        "                               .reset_index())\n",
        "\n",
        "# Convert 'MONTH_NAME' to Categorical and sort in one step\n",
        "order_type_restaurant_monthly['MONTH_NAME'] = pd.Categorical(\n",
        "    order_type_restaurant_monthly['MONTH_NAME'],\n",
        "    categories=month_order,\n",
        "    ordered=True\n",
        ")\n",
        "\n",
        "order_type_restaurant_monthly = order_type_restaurant_monthly.sort_values(\n",
        "    ['MONTH_NAME', 'RESTAURANT_NAME', 'COUNT'], ascending=[True, True, False]\n",
        ").reset_index(drop=True)\n",
        "\n",
        "order_type_restaurant_monthly"
      ]
    },
    {
      "cell_type": "code",
      "execution_count": null,
      "metadata": {
        "id": "uzo9c37xpcQ3"
      },
      "outputs": [],
      "source": [
        "order_type_restaurant_monthly_avg = (order_type_restaurant_monthly\n",
        "                                     .groupby(['RESTAURANT_NAME', 'TYPE'])['COUNT']\n",
        "                                     .mean()\n",
        "                                     .reset_index()\n",
        "                                     .sort_values(['RESTAURANT_NAME', 'COUNT'], ascending=[True, False])\n",
        "                                     .rename(columns={'COUNT': 'MONTHLY_AVG'})\n",
        "                                     .reset_index(drop=True))\n",
        "order_type_restaurant_monthly_avg"
      ]
    },
    {
      "cell_type": "code",
      "execution_count": null,
      "metadata": {
        "id": "R-KOOthNo13g"
      },
      "outputs": [],
      "source": [
        "order_type_restaurant_daily_avg = (order_type_restaurant\n",
        "                                   .groupby(['RESTAURANT_NAME', 'TYPE'])['COUNT']\n",
        "                                   .mean()\n",
        "                                   .reset_index()\n",
        "                                   .sort_values(['RESTAURANT_NAME', 'COUNT'], ascending=[True, False])\n",
        "                                   .rename(columns={'COUNT': 'DAILY_AVG'})\n",
        "                                   .reset_index(drop=True))\n",
        "order_type_restaurant_daily_avg"
      ]
    },
    {
      "cell_type": "code",
      "execution_count": null,
      "metadata": {
        "id": "eKOVhih1-lDe"
      },
      "outputs": [],
      "source": [
        "order_type_item = (df_orders_norm\n",
        "                   .groupby(['DATE', 'ITEM_NAME', 'TYPE'])['TYPE']\n",
        "                   .count()\n",
        "                   .reset_index(name='COUNT'))\n",
        "order_type_item"
      ]
    },
    {
      "cell_type": "code",
      "execution_count": null,
      "metadata": {
        "id": "cLfdKp6HBMYr"
      },
      "outputs": [],
      "source": [
        "order_type_item_daily_avg = (order_type_item\n",
        "                             .groupby(['ITEM_NAME', 'TYPE'])['COUNT']\n",
        "                             .mean()\n",
        "                             .reset_index()\n",
        "                             .sort_values(['ITEM_NAME', 'COUNT'], ascending=[True, False])\n",
        "                             .rename(columns={'COUNT': 'DAILY_AVG'})\n",
        "                             .reset_index(drop=True))\n",
        "order_type_item_daily_avg"
      ]
    },
    {
      "cell_type": "code",
      "execution_count": null,
      "metadata": {
        "id": "vKRVdeUCk7N1"
      },
      "outputs": [],
      "source": [
        "order_type_item_monthly = (order_type_item\n",
        "                           .assign(MONTH_NAME=pd.to_datetime(orders_item_restaurant['DATE']).dt.strftime('%B'))\n",
        "                           .groupby(['MONTH_NAME', 'ITEM_NAME', 'TYPE'])['COUNT']\n",
        "                           .sum()\n",
        "                           .reset_index())\n",
        "\n",
        "# Convert 'MONTH_NAME' to Categorical and sort in one step\n",
        "order_type_item_monthly['MONTH_NAME'] = pd.Categorical(\n",
        "    order_type_item_monthly['MONTH_NAME'],\n",
        "    categories=month_order,\n",
        "    ordered=True\n",
        ")\n",
        "\n",
        "order_type_item_monthly = order_type_item_monthly.sort_values(\n",
        "    ['MONTH_NAME', 'ITEM_NAME', 'COUNT'], ascending=[True, True, False]\n",
        ").reset_index(drop=True)\n",
        "\n",
        "order_type_item_monthly"
      ]
    },
    {
      "cell_type": "code",
      "execution_count": null,
      "metadata": {
        "id": "l1GzV3m7oIVW"
      },
      "outputs": [],
      "source": [
        "order_type_item_monthly_avg = (order_type_item_monthly\n",
        "                               .groupby(['ITEM_NAME', 'TYPE'])['COUNT']\n",
        "                               .mean()\n",
        "                               .reset_index()\n",
        "                               .sort_values(['ITEM_NAME', 'COUNT'], ascending=[True, False])\n",
        "                               .rename(columns={'COUNT': 'MONTHLY_AVG'})\n",
        "                               .reset_index(drop=True))\n",
        "order_type_item_monthly_avg"
      ]
    },
    {
      "cell_type": "markdown",
      "metadata": {
        "id": "i8LslKUJA0RZ"
      },
      "source": [
        "#### Visualizations"
      ]
    },
    {
      "cell_type": "markdown",
      "metadata": {
        "id": "tLsnKqbg7XEs"
      },
      "source": [
        "##### Order Type (Total)"
      ]
    },
    {
      "cell_type": "code",
      "execution_count": null,
      "metadata": {
        "id": "SVatP9oTklkz"
      },
      "outputs": [],
      "source": [
        "fig = go.Figure()\n",
        "\n",
        "for order_type in order_type_count['TYPE'].unique():\n",
        "    subset = order_type_count[order_type_count['TYPE'] == order_type]\n",
        "    fig.add_trace(go.Scatter(x=subset['DATE'], y=subset['COUNT'], mode='lines+markers', name=order_type))\n",
        "\n",
        "fig.update_layout(\n",
        "    title='Order Type Counts Over Time',\n",
        "    xaxis_title='Date',\n",
        "    yaxis_title='Count',\n",
        "    width=1000,\n",
        "    height=500\n",
        ")\n",
        "\n",
        "fig.show()"
      ]
    },
    {
      "cell_type": "markdown",
      "metadata": {
        "id": "w9qONIu2ZPi2"
      },
      "source": [
        "##### Order Type (Drinks & Cookies)"
      ]
    },
    {
      "cell_type": "markdown",
      "metadata": {
        "id": "32BcbDPV92UN"
      },
      "source": [
        "##### Order Type (by Restaurant)"
      ]
    },
    {
      "cell_type": "markdown",
      "metadata": {
        "id": "k8eOJ8wCAuxK"
      },
      "source": [
        "##### Order Type (Daily Average by Restaurant)"
      ]
    },
    {
      "cell_type": "markdown",
      "metadata": {
        "id": "RG7kzfvc-nHj"
      },
      "source": [
        "##### Order Type (by Item)"
      ]
    },
    {
      "cell_type": "markdown",
      "metadata": {
        "id": "EM4ToMDGBOHE"
      },
      "source": [
        "##### Order Type (Daily Average by Item)"
      ]
    },
    {
      "cell_type": "markdown",
      "metadata": {
        "id": "tyHbd7M7EQZ7"
      },
      "source": [
        "## **Insights & Recommendations**"
      ]
    },
    {
      "cell_type": "markdown",
      "metadata": {
        "id": "6lHULGRPNbBm"
      },
      "source": [
        "### **Q1: Where should the new restaurant be located?**\n",
        "\n",
        "**Recommendation**: Long Island City, Queens, NY.\n",
        "\n",
        "**Rationale**:\n",
        "- Untapped Market: This area presents an expansion opportunity as the ***restaurant chain has currently no presence*** in the region.\n",
        "- High Density and Diversity: Long Island City is a densely populated and diverse area, offering a large potential customer base.\n",
        "-Attractive Destination: The area boasts popular attractions and cultural venues, indicating a vibrant local scene.\n",
        "\n",
        "**Supporting Evidence**:\n",
        "\n",
        "Long Island City offers various unique attractions including Gantry Plaza State Park, MoMA PS1, a thriving brewery scene, and Michelin-starred restaurants (source: [NewYorkSimply](https://newyorksimply.com/lic-things-to-do-long-island-city/)).\n",
        "\n",
        "![New Restaurant Location](https://github.com/renan-peres/mfin-python-restaurant-data-analysis/blob/main/images/new-restaurant-location.png?raw=1)"
      ]
    },
    {
      "cell_type": "markdown",
      "metadata": {
        "id": "P6nUR5lrNipz"
      },
      "source": [
        "### **Q2: Which items should be included in the new restaurant?**"
      ]
    },
    {
      "cell_type": "code",
      "source": [
        "Image(filename='/content/total_items_sold.png')"
      ],
      "metadata": {
        "id": "weF5-Etr42R4"
      },
      "execution_count": null,
      "outputs": []
    },
    {
      "cell_type": "markdown",
      "metadata": {
        "id": "1EdaJF_ENDvo"
      },
      "source": [
        "### **Q3: What type of restaurant should it be?**\n",
        "- In-Store\n",
        "- Delivery"
      ]
    },
    {
      "cell_type": "markdown",
      "metadata": {
        "id": "_n37weh_NnAX"
      },
      "source": [
        "## Conclusion"
      ]
    }
  ],
  "metadata": {
    "colab": {
      "provenance": [],
      "include_colab_link": true
    },
    "kernelspec": {
      "display_name": "Python 3",
      "name": "python3"
    },
    "language_info": {
      "name": "python",
      "version": "3.12.3"
    }
  },
  "nbformat": 4,
  "nbformat_minor": 0
}